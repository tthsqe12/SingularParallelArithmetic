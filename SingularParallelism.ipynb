{
 "cells": [
  {
   "cell_type": "code",
   "execution_count": 30,
   "metadata": {},
   "outputs": [],
   "source": [
    "system(\"--ticks-per-sec\",1000);\n",
    "int T;"
   ]
  },
  {
   "cell_type": "markdown",
   "metadata": {},
   "source": [
    "# Multiplication over $\\mathbb{Z}$"
   ]
  },
  {
   "cell_type": "code",
   "execution_count": 17,
   "metadata": {},
   "outputs": [
    {
     "data": {
      "text/plain": [
       "// ** redefining r (ring r = 0, (x,y,z,t,u), lp;)\r\n"
      ]
     },
     "execution_count": 17,
     "metadata": {},
     "output_type": "execute_result"
    }
   ],
   "source": [
    "ring r = 0, (x,y,z,t,u), lp;\n",
    "poly a = (1+x+y+2*z^2+3*t^3+5*u^5)^10;\n",
    "poly b = (1+u+t+2*z^2+3*y^3+5*x^5)^10;\n",
    "poly p;"
   ]
  },
  {
   "cell_type": "code",
   "execution_count": 18,
   "metadata": {},
   "outputs": [
    {
     "data": {
      "text/plain": [
       "833\r\n"
      ]
     },
     "execution_count": 18,
     "metadata": {},
     "output_type": "execute_result"
    }
   ],
   "source": [
    "system(\"--flint-threads\", 1); p = 0; T = rtimer; p = a*b; rtimer - T;"
   ]
  },
  {
   "cell_type": "code",
   "execution_count": 19,
   "metadata": {},
   "outputs": [
    {
     "data": {
      "text/plain": [
       "638\r\n"
      ]
     },
     "execution_count": 19,
     "metadata": {},
     "output_type": "execute_result"
    }
   ],
   "source": [
    "system(\"--flint-threads\", 2); p = 0; T = rtimer; p = a*b; rtimer - T;"
   ]
  },
  {
   "cell_type": "code",
   "execution_count": 20,
   "metadata": {},
   "outputs": [
    {
     "data": {
      "text/plain": [
       "// ** redefining r (ring r = 0, (x,y,z,t), lp;)\r\n"
      ]
     },
     "execution_count": 20,
     "metadata": {},
     "output_type": "execute_result"
    }
   ],
   "source": [
    "ring r = 0, (x,y,z,t), lp;\n",
    "poly a = (1+x+y+z+t)^25;\n",
    "poly b = (1+x+y+z+t)^25;\n",
    "poly p;"
   ]
  },
  {
   "cell_type": "code",
   "execution_count": 21,
   "metadata": {},
   "outputs": [
    {
     "data": {
      "text/plain": [
       "2399\r\n"
      ]
     },
     "execution_count": 21,
     "metadata": {},
     "output_type": "execute_result"
    }
   ],
   "source": [
    "system(\"--flint-threads\", 1); p = 0; T = rtimer; p = a*b; rtimer - T;"
   ]
  },
  {
   "cell_type": "code",
   "execution_count": 22,
   "metadata": {},
   "outputs": [
    {
     "data": {
      "text/plain": [
       "1230\r\n"
      ]
     },
     "execution_count": 22,
     "metadata": {},
     "output_type": "execute_result"
    }
   ],
   "source": [
    "system(\"--flint-threads\", 2); p = 0; T = rtimer; p = a*b; rtimer - T;"
   ]
  },
  {
   "cell_type": "markdown",
   "metadata": {},
   "source": [
    "# Multiplication over $\\mathbb{Z}/p \\mathbb{Z}$"
   ]
  },
  {
   "cell_type": "code",
   "execution_count": 25,
   "metadata": {},
   "outputs": [
    {
     "data": {
      "text/plain": [
       "// ** redefining r (ring r = 536870909, (x,y,z,t,u), lp;)\r\n"
      ]
     },
     "execution_count": 25,
     "metadata": {},
     "output_type": "execute_result"
    }
   ],
   "source": [
    "ring r = 536870909, (x,y,z,t,u), lp;\n",
    "poly a = (1+x+y+2*z^2+3*t^3+5*u^5)^10;\n",
    "poly b = (1+u+t+2*z^2+3*y^3+5*x^5)^10;\n",
    "poly p;"
   ]
  },
  {
   "cell_type": "code",
   "execution_count": 26,
   "metadata": {},
   "outputs": [
    {
     "data": {
      "text/plain": [
       "542\r\n"
      ]
     },
     "execution_count": 26,
     "metadata": {},
     "output_type": "execute_result"
    }
   ],
   "source": [
    "system(\"--flint-threads\", 1); p = 0; T = rtimer; p = a*b; rtimer - T;"
   ]
  },
  {
   "cell_type": "code",
   "execution_count": 27,
   "metadata": {},
   "outputs": [
    {
     "data": {
      "text/plain": [
       "352\r\n"
      ]
     },
     "execution_count": 27,
     "metadata": {},
     "output_type": "execute_result"
    }
   ],
   "source": [
    "system(\"--flint-threads\", 2); p = 0; T = rtimer; p = a*b; rtimer - T;"
   ]
  },
  {
   "cell_type": "code",
   "execution_count": 28,
   "metadata": {},
   "outputs": [
    {
     "data": {
      "text/plain": [
       "// ** redefining r (ring r = 536870909, (x,y,z,t), dp;)\r\n"
      ]
     },
     "execution_count": 28,
     "metadata": {},
     "output_type": "execute_result"
    }
   ],
   "source": [
    "ring r = 536870909, (x,y,z,t), dp;\n",
    "poly a = (1+x+y+z+t)^25;\n",
    "poly b = (1+x+y+z+t)^25;\n",
    "poly p;"
   ]
  },
  {
   "cell_type": "code",
   "execution_count": 29,
   "metadata": {},
   "outputs": [
    {
     "data": {
      "text/plain": [
       "2277\r\n"
      ]
     },
     "execution_count": 29,
     "metadata": {},
     "output_type": "execute_result"
    }
   ],
   "source": [
    "system(\"--flint-threads\", 1); p = 0; T = rtimer; p = a*b; rtimer - T;"
   ]
  },
  {
   "cell_type": "code",
   "execution_count": 32,
   "metadata": {},
   "outputs": [
    {
     "data": {
      "text/plain": [
       "1151\r\n"
      ]
     },
     "execution_count": 32,
     "metadata": {},
     "output_type": "execute_result"
    }
   ],
   "source": [
    "system(\"--flint-threads\", 2); p = 0; T = rtimer; p = a*b; rtimer - T;"
   ]
  },
  {
   "cell_type": "markdown",
   "metadata": {},
   "source": [
    "# Division over $\\mathbb{Z}$"
   ]
  },
  {
   "cell_type": "code",
   "execution_count": 33,
   "metadata": {},
   "outputs": [
    {
     "data": {
      "text/plain": [
       "// ** redefining r (ring r = 0, (x,y,z,t,u), lp;)\r\n"
      ]
     },
     "execution_count": 33,
     "metadata": {},
     "output_type": "execute_result"
    }
   ],
   "source": [
    "ring r = 0, (x,y,z,t,u), lp;\n",
    "poly a = (1+x+y+2*z^2+3*t^3+5*u^5)^10;\n",
    "poly b = (1+u+t+2*z^2+3*y^3+5*x^5)^10;\n",
    "poly p = a*b;\n",
    "poly q;"
   ]
  },
  {
   "cell_type": "code",
   "execution_count": 34,
   "metadata": {},
   "outputs": [
    {
     "data": {
      "text/plain": [
       "934\r\n"
      ]
     },
     "execution_count": 34,
     "metadata": {},
     "output_type": "execute_result"
    }
   ],
   "source": [
    "system(\"--flint-threads\", 1); q = 0; T = rtimer; q = p/b; rtimer - T;"
   ]
  },
  {
   "cell_type": "code",
   "execution_count": 35,
   "metadata": {},
   "outputs": [
    {
     "data": {
      "text/plain": [
       "688\r\n"
      ]
     },
     "execution_count": 35,
     "metadata": {},
     "output_type": "execute_result"
    }
   ],
   "source": [
    "system(\"--flint-threads\", 2); q = 0; T = rtimer; q = p/b; rtimer - T;"
   ]
  },
  {
   "cell_type": "markdown",
   "metadata": {},
   "source": [
    "# Division over $\\mathbb{Z}/p\\mathbb{Z}$"
   ]
  },
  {
   "cell_type": "code",
   "execution_count": 36,
   "metadata": {},
   "outputs": [
    {
     "data": {
      "text/plain": [
       "// ** redefining r (ring r = 536870909, (x,y,z,t,u), lp;)\r\n"
      ]
     },
     "execution_count": 36,
     "metadata": {},
     "output_type": "execute_result"
    }
   ],
   "source": [
    "ring r = 536870909, (x,y,z,t,u), lp;\n",
    "poly a = (1+x+y+2*z^2+3*t^3+5*u^5)^10;\n",
    "poly b = (1+u+t+2*z^2+3*y^3+5*x^5)^10;\n",
    "poly p = a*b;\n",
    "poly q;"
   ]
  },
  {
   "cell_type": "code",
   "execution_count": 37,
   "metadata": {},
   "outputs": [
    {
     "data": {
      "text/plain": [
       "582\r\n"
      ]
     },
     "execution_count": 37,
     "metadata": {},
     "output_type": "execute_result"
    }
   ],
   "source": [
    "system(\"--flint-threads\", 1); q = 0; T = rtimer; q = p/b; rtimer - T;"
   ]
  },
  {
   "cell_type": "code",
   "execution_count": 38,
   "metadata": {},
   "outputs": [
    {
     "data": {
      "text/plain": [
       "360\r\n"
      ]
     },
     "execution_count": 38,
     "metadata": {},
     "output_type": "execute_result"
    }
   ],
   "source": [
    "system(\"--flint-threads\", 2); q = 0; T = rtimer; q = p/b; rtimer - T;"
   ]
  },
  {
   "cell_type": "markdown",
   "metadata": {},
   "source": [
    "# GCD over $\\mathbb{Z}$"
   ]
  },
  {
   "cell_type": "code",
   "execution_count": 53,
   "metadata": {},
   "outputs": [
    {
     "data": {
      "text/plain": [
       "// ** redefining r (ring r = 0, (x,y,z,t,u), lp;)\r\n"
      ]
     },
     "execution_count": 53,
     "metadata": {},
     "output_type": "execute_result"
    }
   ],
   "source": [
    "ring r = 0, (x,y,z,t,u), lp;\n",
    "poly a = (1+x+y^5+z^4+t^40+u^50)^8*(1+x^9+y^2+z^11+t^7+u^27)^5;\n",
    "poly b = (1+x+y^5+z^4+t^40+u^50)^3*(1+x^9+y^2+z^11+t^7+u^27)^9;\n",
    "poly g;"
   ]
  },
  {
   "cell_type": "code",
   "execution_count": 54,
   "metadata": {},
   "outputs": [
    {
     "data": {
      "text/plain": [
       "27616\r\n"
      ]
     },
     "execution_count": 54,
     "metadata": {},
     "output_type": "execute_result"
    }
   ],
   "source": [
    "system(\"--flint-threads\", 1); g = 0; T = rtimer; g = gcd(a,b); rtimer - T;"
   ]
  },
  {
   "cell_type": "code",
   "execution_count": 55,
   "metadata": {},
   "outputs": [
    {
     "data": {
      "text/plain": [
       "14083\r\n"
      ]
     },
     "execution_count": 55,
     "metadata": {},
     "output_type": "execute_result"
    }
   ],
   "source": [
    "system(\"--flint-threads\", 2); g = 0; T = rtimer; g = gcd(a,b); rtimer - T;"
   ]
  },
  {
   "cell_type": "markdown",
   "metadata": {},
   "source": [
    "# GCD over $\\mathbb{Z}/p\\mathbb{Z}$"
   ]
  },
  {
   "cell_type": "code",
   "execution_count": 58,
   "metadata": {},
   "outputs": [
    {
     "data": {
      "text/plain": [
       "// ** redefining r (ring r = 536870909, (x,y,z,t,u), lp;)\r\n"
      ]
     },
     "execution_count": 58,
     "metadata": {},
     "output_type": "execute_result"
    }
   ],
   "source": [
    "ring r = 536870909, (x,y,z,t,u), lp;\n",
    "poly a = (1+x+y^5+z^4+t^40+u^50)^7*(1+x^9+y^2+z^11+t^7+u^27)^3;\n",
    "poly b = (1+x+y^5+z^4+t^40+u^50)^3*(1+x^9+y^2+z^11+t^7+u^27)^6;\n",
    "poly g;"
   ]
  },
  {
   "cell_type": "code",
   "execution_count": 59,
   "metadata": {},
   "outputs": [
    {
     "data": {
      "text/plain": [
       "29401\r\n"
      ]
     },
     "execution_count": 59,
     "metadata": {},
     "output_type": "execute_result"
    }
   ],
   "source": [
    "system(\"--flint-threads\", 1); g = 0; T = rtimer; g = gcd(a,b); rtimer - T;"
   ]
  },
  {
   "cell_type": "code",
   "execution_count": 60,
   "metadata": {},
   "outputs": [
    {
     "data": {
      "text/plain": [
       "15111\r\n"
      ]
     },
     "execution_count": 60,
     "metadata": {},
     "output_type": "execute_result"
    }
   ],
   "source": [
    "system(\"--flint-threads\", 2); g = 0; T = rtimer; g = gcd(a,b); rtimer - T;"
   ]
  }
 ],
 "metadata": {
  "kernelspec": {
   "display_name": "Singular",
   "language": "singular",
   "name": "singular"
  },
  "language_info": {
   "codemirror_mode": "singular",
   "file_extension": ".singular",
   "mimetype": "text/x-singular",
   "name": "Singular"
  }
 },
 "nbformat": 4,
 "nbformat_minor": 2
}
