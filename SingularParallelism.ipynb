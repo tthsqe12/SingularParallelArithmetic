{
 "cells": [
  {
   "cell_type": "markdown",
   "metadata": {},
   "source": [
    "# Multiplication over $\\mathbb{Z}$"
   ]
  },
  {
   "cell_type": "code",
   "execution_count": 1,
   "metadata": {},
   "outputs": [],
   "source": [
    "ring r = 0,(x,y,z,t),lp;"
   ]
  },
  {
   "cell_type": "code",
   "execution_count": 2,
   "metadata": {},
   "outputs": [
    {
     "data": {
      "text/plain": [
       "46376\r\n"
      ]
     },
     "execution_count": 2,
     "metadata": {},
     "output_type": "execute_result"
    }
   ],
   "source": [
    "poly p = (1+x+y+z+t)^30; size(p);"
   ]
  },
  {
   "cell_type": "code",
   "execution_count": 3,
   "metadata": {},
   "outputs": [
    {
     "data": {
      "text/plain": [
       "635376\r\n",
       "4\r\n"
      ]
     },
     "execution_count": 3,
     "metadata": {},
     "output_type": "execute_result"
    }
   ],
   "source": [
    "int time1 = rtimer; size(p*p); rtimer - time1;"
   ]
  },
  {
   "cell_type": "code",
   "execution_count": 4,
   "metadata": {},
   "outputs": [
    {
     "data": {
      "text/plain": [
       "3\r\n"
      ]
     },
     "execution_count": 4,
     "metadata": {},
     "output_type": "execute_result"
    }
   ],
   "source": [
    "1+2;"
   ]
  }
 ],
 "metadata": {
  "kernelspec": {
   "display_name": "Singular",
   "language": "singular",
   "name": "singular"
  },
  "language_info": {
   "codemirror_mode": "singular",
   "file_extension": ".singular",
   "mimetype": "text/x-singular",
   "name": "Singular"
  }
 },
 "nbformat": 4,
 "nbformat_minor": 2
}
